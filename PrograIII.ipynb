{
  "nbformat": 4,
  "nbformat_minor": 0,
  "metadata": {
    "colab": {
      "name": "PrograIII.ipynb",
      "provenance": [],
      "authorship_tag": "ABX9TyOsgdCB1nMzspd3rEPSm6SL",
      "include_colab_link": true
    },
    "kernelspec": {
      "name": "python3",
      "display_name": "Python 3"
    },
    "language_info": {
      "name": "python"
    }
  },
  "cells": [
    {
      "cell_type": "markdown",
      "metadata": {
        "id": "view-in-github",
        "colab_type": "text"
      },
      "source": [
        "<a href=\"https://colab.research.google.com/github/Denys96/Python_basico/blob/Python_basico2/PrograIII.ipynb\" target=\"_parent\"><img src=\"https://colab.research.google.com/assets/colab-badge.svg\" alt=\"Open In Colab\"/></a>"
      ]
    },
    {
      "cell_type": "code",
      "metadata": {
        "colab": {
          "base_uri": "https://localhost:8080/"
        },
        "id": "4xSo58CQ6-dl",
        "outputId": "54700586-0045-4c33-acc4-4ecaccee1bd3"
      },
      "source": [
        "num1 = int(input(\"Ingrese un numero:\"))\n",
        "num2= int(input(\"Ingrese otro numero:\"))\n",
        "respuesta = num1 + num2\n",
        "print(f\"LA SUMA DE LOS DOS NUMEROS SON: {respuesta}\")"
      ],
      "execution_count": null,
      "outputs": [
        {
          "output_type": "stream",
          "text": [
            "Ingrese un numero:5\n",
            "Ingrese otro numero:5\n",
            "LA SUMA DE LOS DOS NUMEROS SON: 10\n"
          ],
          "name": "stdout"
        }
      ]
    },
    {
      "cell_type": "code",
      "metadata": {
        "id": "139hU1ZfJZ6P",
        "colab": {
          "base_uri": "https://localhost:8080/"
        },
        "outputId": "4a76122f-ffbe-4545-90d1-3b7cb29e136c"
      },
      "source": [
        "def factorial(numero):\n",
        "    if numero == 1:\n",
        "        return 1\n",
        "    else:\n",
        "        return numero * factorial(numero-1)\n",
        "\n",
        "numero = int(input(\"Ingresa un numero: \"))\n",
        "resultado = factorial(numero)\n",
        "print(f\"El factorial de {numero} es {resultado}\")\n"
      ],
      "execution_count": null,
      "outputs": [
        {
          "output_type": "stream",
          "text": [
            "Ingresa un numero: 3\n",
            "El factorial de 3 es 6\n"
          ],
          "name": "stdout"
        }
      ]
    },
    {
      "cell_type": "code",
      "metadata": {
        "id": "D3FWE1eXzp3e"
      },
      "source": [
        "class Calculadora:\n",
        "  #def __init__(self):\n",
        "  #  self.n1 = n1\n",
        "  #  self.n2 = n2\n",
        "   \n",
        "  def suma(n1, n2):\n",
        "    return n1 + n2\n",
        "            \n",
        "  def resta(n1, n2):\n",
        "    return n1 - n2\n",
        "  \n",
        "  def multiplicacion(n1, n2):\n",
        "    return n1 * n2\n",
        "  \n",
        "  def division(n1, n2):\n",
        "    return n1/n2\n",
        "  \n",
        "  def potencia(n1, n2):\n",
        "    return n1**n2\n",
        "  \n",
        "  def modulo(n1, n2):\n",
        "    return n1%n2\n",
        " \n",
        " \n",
        "print(f\"Suma:{Calculadora.suma(2, 2)}\")\n",
        "print(f\"Resta:{Calculadora.resta(2, 2)}\")\n",
        "print(f\"Multiplicacion: {Calculadora.multiplicacion(2,  2)}\")\n",
        "print(f\"Division: {Calculadora.division(2,  2)}\")\n",
        "print(f\"Potencia: {Calculadora.potencia(2, 2)}\")\n",
        "print(f\"Modulo: {Calculadora.modulo(3, 2)}\")"
      ],
      "execution_count": null,
      "outputs": []
    },
    {
      "cell_type": "code",
      "metadata": {
        "id": "lOG7e28wzwCT"
      },
      "source": [
        "def convertirCF(c):\n",
        "  f = (c*9/5)+32\n",
        "  return f\n",
        "\n",
        "c = int(input(\"C: \"))\n",
        "print(\"C: \", str(c), \" a fahrenheit: \", str( convertirCF(c) ))"
      ],
      "execution_count": null,
      "outputs": []
    },
    {
      "cell_type": "code",
      "metadata": {
        "id": "wYOW_qY1zw1e"
      },
      "source": [
        "edad = int(input(\"Proporciona tu edad: \"))\n",
        "mensaje = None\n",
        "if 0 <= edad < 10:\n",
        "    mensaje = \"La infancia es increíble...\"\n",
        "elif  10 <= edad < 20:\n",
        "    mensaje = \"Muchos cambios, mucho estudio...\"\n",
        "elif  20 <= edad < 30:\n",
        "    mensaje = \"Amor y comienza el trabajo...\"\n",
        "else:\n",
        "    mensaje = \"Etapa de vida NO reconocida\"\n",
        "print(f'Tu edad es: {edad}, {mensaje}')"
      ],
      "execution_count": null,
      "outputs": []
    }
  ]
}