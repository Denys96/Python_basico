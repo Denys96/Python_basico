{
  "nbformat": 4,
  "nbformat_minor": 0,
  "metadata": {
    "colab": {
      "name": "Tareavacaciones.ipynb",
      "provenance": [],
      "authorship_tag": "ABX9TyNxWKvqRxwxf/yo/RRbaCKP",
      "include_colab_link": true
    },
    "kernelspec": {
      "name": "python3",
      "display_name": "Python 3"
    },
    "language_info": {
      "name": "python"
    }
  },
  "cells": [
    {
      "cell_type": "markdown",
      "metadata": {
        "id": "view-in-github",
        "colab_type": "text"
      },
      "source": [
        "<a href=\"https://colab.research.google.com/github/Denys96/Python_basico/blob/main/Tareavacaciones.ipynb\" target=\"_parent\"><img src=\"https://colab.research.google.com/assets/colab-badge.svg\" alt=\"Open In Colab\"/></a>"
      ]
    },
    {
      "cell_type": "markdown",
      "metadata": {
        "id": "ZyGRbE4d4f0E"
      },
      "source": [
        " Ejercicios de Tarea:\n",
        "Convertir de Celsius de Fahrenheit\n",
        "Calcular la edad de una persona.\n",
        "Obtener la nota final de ciclo"
      ]
    },
    {
      "cell_type": "code",
      "metadata": {
        "colab": {
          "base_uri": "https://localhost:8080/"
        },
        "id": "jTCfL2vX24Jk",
        "outputId": "d5a0802e-a317-4998-e27c-41fe1aa640ad"
      },
      "source": [
        "#Convertir de Celsius de Fahrenheit\n",
        "def convertirCF(c):\n",
        "  f = (c*9/5)+32\n",
        "  return f\n",
        "\n",
        "c = int(input(\"C: \"))\n",
        "print(\"C: \", str(c), \" a fahrenheit: \", str( convertirCF(c) ))"
      ],
      "execution_count": null,
      "outputs": [
        {
          "output_type": "stream",
          "text": [
            "C: 1\n",
            "C:  1  a fahrenheit:  33.8\n"
          ],
          "name": "stdout"
        }
      ]
    },
    {
      "cell_type": "code",
      "metadata": {
        "colab": {
          "base_uri": "https://localhost:8080/"
        },
        "id": "7AZKLh_c4Kky",
        "outputId": "3ba1583f-0939-4eed-bd16-c6d40ce12145"
      },
      "source": [
        "#Calcular la edad de una persona.\n",
        "nombre= str(input(\"escribe tu nombre: \"))\n",
        "nace= int(input(\"escribe tu año de nacimiento: \"))\n",
        "actual = int(input(\"escribe el año actual: \"))\n",
        "edad = actual - nace\n",
        "\n",
        "diez = edad >= 1 and edad < 20\n",
        "veinte = edad >= 20 and edad < 30\n",
        "treita = edad >= 30 and edad < 40\n",
        "cuarenta = edad >= 40 and edad < 50\n",
        "cincuenta = edad >= 50 and edad < 60\n",
        "terceraedad = edad >= 60 and edad < 125\n",
        "\n",
        "\n",
        "if diez or veinte or treita or cuarenta or cincuenta or terceraedad :\n",
        "  \n",
        "    if diez:\n",
        "        print(nombre)\n",
        "        print(f\"Tu edad es de :{edad}, y esta dentro de los 1 a 19 años\")\n",
        "    elif veinte:\n",
        "        print(nombre)\n",
        "        print(f\"Tu edad es de :{edad}, y esta dentro de los 20 a 29 años\")\n",
        "    elif treita:\n",
        "        print(nombre)\n",
        "        print(f\"Tu edad es de :{edad}, y esta dentro de los 30 a 39 años\")\n",
        "    elif cuarenta:\n",
        "        print(nombre)\n",
        "        print(f\"Tu edad es de :{edad}, y esta dentro de los 40 a 49 años\")\n",
        "    elif cincuenta:\n",
        "        print(nombre)\n",
        "        print(f\"Tu edad es de :{edad}, y esta dentro de los 50 a 59 años\")\n",
        "    elif terceraedad:\n",
        "        print(nombre)\n",
        "        print(f\"Tu edad es de :{edad}, y esta dentro de la tercera edad años\")\n",
        "\n",
        "else:\n",
        "    print(\"No esta dentro de las edades\")"
      ],
      "execution_count": null,
      "outputs": [
        {
          "output_type": "stream",
          "text": [
            "escribe tu nombre: Denys\n",
            "escribe tu año de nacimiento: 1996\n",
            "escribe el año actual: 2021\n",
            "Denys\n",
            "Tu edad es de :25, y esta dentro de los 20 a 29 años\n"
          ],
          "name": "stdout"
        }
      ]
    },
    {
      "cell_type": "code",
      "metadata": {
        "colab": {
          "base_uri": "https://localhost:8080/"
        },
        "id": "lDTkZsnV-tdb",
        "outputId": "f0357d7f-4497-4d93-f263-a6c4f277c6b0"
      },
      "source": [
        "#Obtener la nota final de ciclo\n",
        "print(\"Notas del computo 1:\")\n",
        "nota1c1 = float(input(\"Ingrese la nota del laboratorio 1: \"))\n",
        "nota2c1 = float(input(\"Ingrese la nota del laboratorio 2: \"))\n",
        "parc1 = float(input(\"Ingrese la nota del parcial: \"))\n",
        "\n",
        "resultadoc1 = nota1c1*0.30 + nota2c1*0.30 + parc1*0.40\n",
        "resc1 = resultadoc1 >= 6.5\n",
        "\n",
        "if resc1:\n",
        "   print(f\"Su nota es de: {resultadoc1} APROBADO\")\n",
        "else:\n",
        "    print(f\"Su nota es de: {resultadoc1} REPROBADO\")\n",
        "\n",
        "print(\"\")\n",
        "\n",
        "print(\"Notas computo 2:\")\n",
        "nota1c2 = float(input(\"Ingrese la nota del laboratorio 1: \"))\n",
        "nota2c2 = float(input(\"Ingrese la nota del laboratorio 2: \"))\n",
        "parc2 = float(input(\"Ingrese la nota del parcial: \"))\n",
        "\n",
        "resultadoc2 = nota1c2*0.30 + nota2c2*0.30 + parc2*0.40\n",
        "resc2 = resultadoc2 >= 6.5\n",
        "\n",
        "if resc2:\n",
        "   print(f\"Su nota es de: {resultadoc2} APROBADO\")\n",
        "else:\n",
        "    print(f\"Su nota es de: {resultadoc2} REPROBADO\")\n",
        "\n",
        "print(\"\")\n",
        "\n",
        "print(\"Notas computo 3:\")\n",
        "nota1c3 = float(input(\"Ingrese la nota del laboratorio 1: \"))\n",
        "nota2c3 = float(input(\"Ingrese la nota del laboratorio 2: \"))\n",
        "parc3 = float(input(\"Ingrese la nota del parcial: \"))\n",
        "\n",
        "resultadoc3 = nota1c3*0.30 + nota2c3*0.30 + parc3*0.40\n",
        "resc3 = resultadoc3 >= 6.5\n",
        "\n",
        "if resc3:\n",
        "   print(f\"Su nota es de: {resultadoc3} APROBADO\")\n",
        "else:\n",
        "    print(f\"Su nota es de: {resultadoc3} REPROBADO\")\n",
        "\n",
        "print(\"\")\n",
        "\n",
        "fin = float(resultadoc1 + resultadoc2 + resultadoc3) / 3\n",
        "final = fin >= 6.5\n",
        "if final:\n",
        "   print(f\"Su nota final es:{fin}\", \"FELICIDADES APROBO EL CICLO\")\n",
        "else:\n",
        "     print(f\"Su nota final es:{fin}\", \"LO SIENTO REPROBO EL CICLO\")\n",
        "   \n"
      ],
      "execution_count": null,
      "outputs": [
        {
          "output_type": "stream",
          "text": [
            "Notas del computo 1:\n",
            "Ingrese la nota del laboratorio 1: 5\n",
            "Ingrese la nota del laboratorio 2: 5\n",
            "Ingrese la nota del parcial: 5\n",
            "Su nota es de: 5.0 REPROBADO\n",
            "\n",
            "Notas computo 2:\n",
            "Ingrese la nota del laboratorio 1: 5\n",
            "Ingrese la nota del laboratorio 2: 5\n",
            "Ingrese la nota del parcial: 5\n",
            "Su nota es de: 5.0 REPROBADO\n",
            "\n",
            "Notas computo 3:\n",
            "Ingrese la nota del laboratorio 1: 3\n",
            "Ingrese la nota del laboratorio 2: 4\n",
            "Ingrese la nota del parcial: 3\n",
            "Su nota es de: 3.3 REPROBADO\n",
            "\n",
            "Su nota final es:4.433333333333334 LO SIENTO REPROBO EL CICLO\n"
          ],
          "name": "stdout"
        }
      ]
    },
    {
      "cell_type": "markdown",
      "metadata": {
        "id": "MMB8JUrvJHlV"
      },
      "source": [
        "Tarea:\n",
        "\n",
        "1.   Convertir de Celsius de Fahrenheit usando lambda.\n",
        "2.   Calcular la edad de una persona usando lambda.\n",
        "3.   Obtener la nota final de ciclo usando lambda y build-in(map, filter, reduce).\n"
      ]
    },
    {
      "cell_type": "code",
      "metadata": {
        "colab": {
          "base_uri": "https://localhost:8080/"
        },
        "id": "muKcH43tJQuv",
        "outputId": "511869db-1d05-4b2f-d171-d4f2bbec4c7a"
      },
      "source": [
        "#Convertir de Celsius de Fahrenheit usando lambda.\n",
        "conversion = lambda c:(c*9/5)+32\n",
        "c = float(input(\"Celsuis: \"))\n",
        "print(\"Grados C: \", c, \" a F: \", conversion(c))\n"
      ],
      "execution_count": null,
      "outputs": [
        {
          "output_type": "stream",
          "text": [
            "Celsuis: 1\n",
            "Grados C:  1.0  a F:  33.8\n"
          ],
          "name": "stdout"
        }
      ]
    },
    {
      "cell_type": "code",
      "metadata": {
        "colab": {
          "base_uri": "https://localhost:8080/"
        },
        "id": "yiNodnfoNaYM",
        "outputId": "644b704b-740e-4914-d8fe-911a9b17507f"
      },
      "source": [
        "#Calcular la edad de una persona usando lambda.\n",
        "nombre= str(input(\"escribe tu nombre: \"))\n",
        "nace= int(input(\"escribe tu año de nacimiento: \"))\n",
        "actual = int(input(\"escribe el año actual: \"))\n",
        "edad = lambda actual,nace :actual - nace\n",
        "\n",
        "diez = edad(actual,nace) >= 1 and edad(actual,nace) < 20\n",
        "veinte = edad(actual,nace) >= 20 and edad(actual,nace) < 30\n",
        "treita = edad(actual,nace) >= 30 and edad(actual,nace) < 40\n",
        "cuarenta = edad(actual,nace) >= 40 and edad(actual,nace) < 50\n",
        "cincuenta = edad(actual,nace) >= 50 and edad(actual,nace) < 60\n",
        "terceraedad = edad(actual,nace) >= 60 and edad(actual,nace) < 125\n",
        "\n",
        "\n",
        "if diez or veinte or treita or cuarenta or cincuenta or terceraedad :\n",
        "  \n",
        "    if diez:\n",
        "        print(nombre)\n",
        "        print(f\"Tu edad es de :{edad(actual,nace)}, y esta dentro de los 1 a 19 años\")\n",
        "    elif veinte:\n",
        "        print(nombre)\n",
        "        print(f\"Tu edad es de :{edad(actual,nace)}, y esta dentro de los 20 a 29 años\")\n",
        "    elif treita:\n",
        "        print(nombre)\n",
        "        print(f\"Tu edad es de :{edad(actual,nace)}, y esta dentro de los 30 a 39 años\")\n",
        "    elif cuarenta:\n",
        "        print(nombre)\n",
        "        print(f\"Tu edad es de :{edad(actual,nace)}, y esta dentro de los 40 a 49 años\")\n",
        "    elif cincuenta:\n",
        "        print(nombre)\n",
        "        print(f\"Tu edad es de :{edad(actual,nace)}, y esta dentro de los 50 a 59 años\")\n",
        "    elif terceraedad:\n",
        "        print(nombre)\n",
        "        print(f\"Tu edad es de :{edad(actual,nace)}, y esta dentro de la tercera edad años\")\n",
        "\n",
        "else:\n",
        "    print(\"No esta dentro de las edades\")"
      ],
      "execution_count": null,
      "outputs": [
        {
          "output_type": "stream",
          "text": [
            "escribe tu nombre: denys\n",
            "escribe tu año de nacimiento: 1996\n",
            "escribe el año actual: 2090\n",
            "denys\n",
            "Tu edad es de :94, y esta dentro de la tercera edad años\n"
          ],
          "name": "stdout"
        }
      ]
    },
    {
      "cell_type": "code",
      "metadata": {
        "id": "gShIjZTbK3Jb",
        "colab": {
          "base_uri": "https://localhost:8080/"
        },
        "outputId": "f8ab3231-4383-456f-d48e-0a9a84e4da2f"
      },
      "source": [
        "#Obtener la nota final de ciclo usando lambda y build-in(map, filter, reduce).\n",
        "print(\"Notas del computo 1:\")\n",
        "nota1c1 = float(input(\"Ingrese la nota del laboratorio 1: \"))\n",
        "nota2c1 = float(input(\"Ingrese la nota del laboratorio 2: \"))\n",
        "parc1 = float(input(\"Ingrese la nota del parcial: \"))\n",
        "\n",
        "resultadoc1 = lambda nota1c1,nota2c1,parc1: (nota1c1 + nota2c1)*0.30 + parc1*0.40\n",
        "\n",
        "\n",
        "if resultadoc1(nota1c1,nota2c1,parc1) >= 6.5:\n",
        "   print(f\"Su nota es de: {resultadoc1(nota1c1,nota2c1,parc1)} APROBADO\")\n",
        "else:\n",
        "    print(f\"Su nota es de: {resultadoc1(nota1c1,nota2c1,parc1)} REPROBADO\")\n",
        "\n",
        "print(\"\")\n",
        "\n",
        "print(\"Notas computo 2:\")\n",
        "nota1c2 = float(input(\"Ingrese la nota del laboratorio 1: \"))\n",
        "nota2c2 = float(input(\"Ingrese la nota del laboratorio 2: \"))\n",
        "parc2 = float(input(\"Ingrese la nota del parcial: \"))\n",
        "\n",
        "resultadoc2 = lambda nota1c2,nota2c2,parc2: (nota1c2 + nota2c2)*0.30 + parc2*0.40\n",
        "\n",
        "\n",
        "if resultadoc2(nota1c2,nota2c2,parc2) >= 6.5:\n",
        "   print(f\"Su nota es de: {resultadoc2(nota1c2,nota2c2,parc2)} APROBADO\")\n",
        "else:\n",
        "    print(f\"Su nota es de: {resultadoc2(nota1c2,nota2c2,parc2)} REPROBADO\")\n",
        "\n",
        "print(\"\")\n",
        "\n",
        "print(\"Notas computo 3:\")\n",
        "nota1c3 = float(input(\"Ingrese la nota del laboratorio 1: \"))\n",
        "nota2c3 = float(input(\"Ingrese la nota del laboratorio 2: \"))\n",
        "parc3 = float(input(\"Ingrese la nota del parcial: \"))\n",
        "\n",
        "resultadoc3 = lambda nota1c3,nota2c3,parc3: (nota1c3 + nota2c3)*0.30 + parc3*0.40\n",
        "\n",
        "if resultadoc3(nota1c3,nota2c3,parc3) >= 6.5:\n",
        "   print(f\"Su nota es de: {resultadoc3(nota1c3,nota2c3,parc3)} APROBADO\")\n",
        "else:\n",
        "    print(f\"Su nota es de: {resultadoc3(nota1c3,nota2c3,parc3)} REPROBADO\")\n",
        "\n",
        "print(\"\")\n",
        "\n",
        "fin = float(resultadoc1(nota1c1,nota2c1,parc1) + resultadoc2(nota1c2,nota2c2,parc2) + resultadoc3(nota1c3,nota2c3,parc3)) / 3\n",
        "final = fin >= 6.5\n",
        "if final:\n",
        "   print(f\"Su nota final es:{fin}\", \"FELICIDADES APROBO EL CICLO\")\n",
        "else:\n",
        "     print(f\"Su nota final es:{fin}\", \"LO SIENTO REPROBO EL CICLO\")\n",
        "   "
      ],
      "execution_count": null,
      "outputs": [
        {
          "output_type": "stream",
          "text": [
            "Notas del computo 1:\n",
            "Ingrese la nota del laboratorio 1: 7\n",
            "Ingrese la nota del laboratorio 2: 8\n",
            "Ingrese la nota del parcial: 9\n",
            "Su nota es de: 8.1 APROBADO\n",
            "\n",
            "Notas computo 2:\n",
            "Ingrese la nota del laboratorio 1: 7\n",
            "Ingrese la nota del laboratorio 2: 8\n",
            "Ingrese la nota del parcial: 7\n",
            "Su nota es de: 7.300000000000001 APROBADO\n",
            "\n",
            "Notas computo 3:\n",
            "Ingrese la nota del laboratorio 1: 8\n",
            "Ingrese la nota del laboratorio 2: 9\n",
            "Ingrese la nota del parcial: 5\n",
            "Su nota es de: 7.1 APROBADO\n",
            "\n",
            "Su nota final es:7.5 FELICIDADES APROBO EL CICLO\n"
          ],
          "name": "stdout"
        }
      ]
    }
  ]
}